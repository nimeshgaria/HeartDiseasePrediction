{
 "cells": [
  {
   "cell_type": "code",
   "execution_count": 1,
   "metadata": {},
   "outputs": [],
   "source": [
    "#import library\n",
    "\n",
    "import os\n",
    "import numpy as np\n",
    "import pandas as pd\n",
    "import matplotlib.pyplot as plt\n",
    "import seaborn as sns\n",
    "from sklearn.metrics import confusion_matrix\n",
    "from sklearn.model_selection import train_test_split\n",
    "from sklearn.ensemble import RandomForestClassifier\n",
    "from sklearn.neighbors import KNeighborsClassifier\n",
    "from sklearn.tree import DecisionTreeClassifier\n",
    "from sklearn.naive_bayes import GaussianNB\n",
    "from sklearn.metrics import accuracy_score\n",
    "from sklearn.svm import SVC\n",
    "\n",
    "#Read csv file\n",
    "\n",
    "df = pd.read_csv(r'C:\\Users\\Nimesh\\Desktop\\Master Thesis\\heart.csv')\n",
    "x = df.iloc[0:,0:13].values\n",
    "y = df.iloc[0:,13].values\n",
    "\n",
    "\n",
    "#split training testing data\n",
    "\n",
    "from sklearn.model_selection import train_test_split\n",
    "\n",
    "x_train, x_test, y_train, y_test = train_test_split(x,y, test_size = 0.20, random_state = 0)\n",
    "\n",
    "from sklearn.preprocessing import StandardScaler\n",
    "scaler = StandardScaler()\n",
    "scaler.fit(x_train)\n",
    "\n",
    "x_train = scaler.transform(x_train)\n",
    "x_test = scaler.transform(x_test)\n",
    "\n",
    "\n"
   ]
  },
  {
   "cell_type": "code",
   "execution_count": 2,
   "metadata": {},
   "outputs": [
    {
     "name": "stdout",
     "output_type": "stream",
     "text": [
      "SVM Classifier\n",
      "              precision    recall  f1-score   support\n",
      "\n",
      "           0       0.93      0.76      0.83        98\n",
      "           1       0.81      0.94      0.87       107\n",
      "\n",
      "    accuracy                           0.85       205\n",
      "   macro avg       0.87      0.85      0.85       205\n",
      "weighted avg       0.86      0.85      0.85       205\n",
      "\n",
      "ACCURACY:  0.8536585365853658\n"
     ]
    }
   ],
   "source": [
    "#SVM classifier\n",
    "\n",
    "\n",
    "from sklearn.svm import SVC  \n",
    "\n",
    "svclassifier = SVC(kernel='linear')  \n",
    "svclassifier.fit(x_train, y_train)\n",
    "\n",
    "y_pred = svclassifier.predict(x_test)\n",
    "from sklearn.metrics import classification_report, confusion_matrix  \n",
    "print(\"SVM Classifier\")\n",
    "print(classification_report(y_test,y_pred))\n",
    "\n",
    "acc=(74+101)/(74+101+24+6)\n",
    "\n",
    "\n",
    "print('ACCURACY: ',acc)\n",
    "\n"
   ]
  },
  {
   "cell_type": "code",
   "execution_count": 3,
   "metadata": {},
   "outputs": [
    {
     "name": "stdout",
     "output_type": "stream",
     "text": [
      "              precision    recall  f1-score   support\n",
      "\n",
      "           0       0.93      0.76      0.83        98\n",
      "           1       0.81      0.94      0.87       107\n",
      "\n",
      "    accuracy                           0.85       205\n",
      "   macro avg       0.87      0.85      0.85       205\n",
      "weighted avg       0.86      0.85      0.85       205\n",
      "\n",
      "Random Forest Classifier Accuracy: 88.78%\n"
     ]
    },
    {
     "data": {
      "image/png": "[encoded data removed]",
      "text/plain": [
       "<Figure size 432x288 with 2 Axes>"
      ]
     },
     "metadata": {
      "needs_background": "light"
     },
     "output_type": "display_data"
    }
   ],
   "source": [
    "#Random Forest\n",
    "\n",
    "rfc = RandomForestClassifier(n_estimators = 4, max_depth = 3)\n",
    "\n",
    "rfc.fit(x_train, y_train)\n",
    "rfc_pred = rfc.predict(x_test)\n",
    "rfc_accuracy = accuracy_score(y_test, rfc_pred)\n",
    "print(classification_report(y_test,y_pred))\n",
    "print('Random Forest Classifier Accuracy: {:.2f}%'.format(rfc_accuracy*100))\n",
    "cm = confusion_matrix(y_test,rfc_pred)\n",
    "sns.heatmap(cm,annot=True);\n"
   ]
  },
  {
   "cell_type": "code",
   "execution_count": 4,
   "metadata": {},
   "outputs": [
    {
     "name": "stdout",
     "output_type": "stream",
     "text": [
      "              precision    recall  f1-score   support\n",
      "\n",
      "           0       0.93      0.76      0.83        98\n",
      "           1       0.81      0.94      0.87       107\n",
      "\n",
      "    accuracy                           0.85       205\n",
      "   macro avg       0.87      0.85      0.85       205\n",
      "weighted avg       0.86      0.85      0.85       205\n",
      "\n",
      "KNeighborsClassifier Accuracy: 84.88%\n"
     ]
    },
    {
     "data": {
      "image/png": "[encoded data removed]",
      "text/plain": [
       "<Figure size 432x288 with 2 Axes>"
      ]
     },
     "metadata": {
      "needs_background": "light"
     },
     "output_type": "display_data"
    }
   ],
   "source": [
    "#KNN\n",
    "knn = KNeighborsClassifier(n_neighbors = 7)  # n_neighbors means k\n",
    "knn.fit(x_train, y_train)\n",
    "knn_pred = knn.predict(x_test)\n",
    "knn_accuracy = accuracy_score(y_test, knn_pred)\n",
    "print(classification_report(y_test,y_pred))\n",
    "print('KNeighborsClassifier Accuracy: {:.2f}%'.format(knn_accuracy*100))\n",
    "\n",
    "cm = confusion_matrix(y_test,knn_pred)\n",
    "sns.heatmap(cm,annot=True);"
   ]
  },
  {
   "cell_type": "code",
   "execution_count": 5,
   "metadata": {},
   "outputs": [
    {
     "name": "stdout",
     "output_type": "stream",
     "text": [
      "Naive Bayes Accuracy: 85.37%\n"
     ]
    },
    {
     "data": {
      "image/png": "[encoded data removed]",
      "text/plain": [
       "<Figure size 432x288 with 2 Axes>"
      ]
     },
     "metadata": {
      "needs_background": "light"
     },
     "output_type": "display_data"
    }
   ],
   "source": [
    "#Naive Bayes\n",
    "from sklearn.naive_bayes import GaussianNB\n",
    "nb = GaussianNB()\n",
    "nb.fit(x_train, y_train)\n",
    "nb_pred = nb.predict(x_test)\n",
    "nb_accuracy = accuracy_score(y_test, nb_pred)\n",
    "\n",
    "print('Naive Bayes Accuracy: {:.2f}%'.format(nb_accuracy*100))\n",
    "cm_nb = confusion_matrix(y_test,nb_pred)\n",
    "sns.heatmap(cm,annot=True);\n"
   ]
  },
  {
   "cell_type": "code",
   "execution_count": 6,
   "metadata": {},
   "outputs": [
    {
     "data": {
      "image/png": "[encoded data removed]",
      "text/plain": [
       "<Figure size 360x144 with 1 Axes>"
      ]
     },
     "metadata": {
      "needs_background": "light"
     },
     "output_type": "display_data"
    }
   ],
   "source": [
    "import matplotlib.pyplot as plt\n",
    "import seaborn as sns\n",
    "\n",
    "def plotTarget():\n",
    "    sns.countplot(x='target', data=df, ax=ax)\n",
    "    for i, p in enumerate(ax.patches):\n",
    "        count=df['target'].value_counts().values[i]\n",
    "        x=p.get_x()+ p.get_width() /2.\n",
    "        y=p.get_height() + 3\n",
    "        label='{:1.2f}'.format(count / float(df.shape[0]))\n",
    "        ax.text(x, y,label, ha='center')\n",
    "        \n",
    "fig_target,ax=plt.subplots(nrows=1, ncols=1, figsize=(5, 2))\n",
    "plotTarget()"
   ]
  },
  {
   "cell_type": "code",
   "execution_count": 8,
   "metadata": {},
   "outputs": [],
   "source": [
    "# create X and Y datasets for training\n",
    "from sklearn import model_selection\n",
    "\n",
    "X = np.array(df.drop(['target'], 1))\n",
    "y = np.array(df['target'])\n",
    "\n",
    "X_train, X_test, y_train, y_test = model_selection.train_test_split(X, y, test_size = 0.2)"
   ]
  },
  {
   "cell_type": "code",
   "execution_count": 9,
   "metadata": {},
   "outputs": [
    {
     "name": "stderr",
     "output_type": "stream",
     "text": [
      "Using TensorFlow backend.\n",
      "C:\\Users\\Nimesh\\Anaconda3\\lib\\site-packages\\tensorflow\\python\\framework\\dtypes.py:523: FutureWarning: Passing (type, 1) or '1type' as a synonym of type is deprecated; in a future version of numpy, it will be understood as (type, (1,)) / '(1,)type'.\n",
      "  _np_qint8 = np.dtype([(\"qint8\", np.int8, 1)])\n",
      "C:\\Users\\Nimesh\\Anaconda3\\lib\\site-packages\\tensorflow\\python\\framework\\dtypes.py:524: FutureWarning: Passing (type, 1) or '1type' as a synonym of type is deprecated; in a future version of numpy, it will be understood as (type, (1,)) / '(1,)type'.\n",
      "  _np_quint8 = np.dtype([(\"quint8\", np.uint8, 1)])\n",
      "C:\\Users\\Nimesh\\Anaconda3\\lib\\site-packages\\tensorflow\\python\\framework\\dtypes.py:525: FutureWarning: Passing (type, 1) or '1type' as a synonym of type is deprecated; in a future version of numpy, it will be understood as (type, (1,)) / '(1,)type'.\n",
      "  _np_qint16 = np.dtype([(\"qint16\", np.int16, 1)])\n",
      "C:\\Users\\Nimesh\\Anaconda3\\lib\\site-packages\\tensorflow\\python\\framework\\dtypes.py:526: FutureWarning: Passing (type, 1) or '1type' as a synonym of type is deprecated; in a future version of numpy, it will be understood as (type, (1,)) / '(1,)type'.\n",
      "  _np_quint16 = np.dtype([(\"quint16\", np.uint16, 1)])\n",
      "C:\\Users\\Nimesh\\Anaconda3\\lib\\site-packages\\tensorflow\\python\\framework\\dtypes.py:527: FutureWarning: Passing (type, 1) or '1type' as a synonym of type is deprecated; in a future version of numpy, it will be understood as (type, (1,)) / '(1,)type'.\n",
      "  _np_qint32 = np.dtype([(\"qint32\", np.int32, 1)])\n",
      "C:\\Users\\Nimesh\\Anaconda3\\lib\\site-packages\\tensorflow\\python\\framework\\dtypes.py:532: FutureWarning: Passing (type, 1) or '1type' as a synonym of type is deprecated; in a future version of numpy, it will be understood as (type, (1,)) / '(1,)type'.\n",
      "  np_resource = np.dtype([(\"resource\", np.ubyte, 1)])\n"
     ]
    },
    {
     "name": "stdout",
     "output_type": "stream",
     "text": [
      "(820, 2)\n",
      "[[1. 0.]\n",
      " [1. 0.]\n",
      " [0. 1.]\n",
      " [1. 0.]\n",
      " [1. 0.]\n",
      " [0. 1.]\n",
      " [0. 1.]\n",
      " [1. 0.]\n",
      " [0. 1.]\n",
      " [0. 1.]]\n"
     ]
    }
   ],
   "source": [
    "# convert the data to categorical labels\n",
    "from keras.utils.np_utils import to_categorical\n",
    "\n",
    "Y_train = to_categorical(y_train, num_classes=None)\n",
    "Y_test = to_categorical(y_test, num_classes=None)\n",
    "print (Y_train.shape)\n",
    "print (Y_train[:10])"
   ]
  },
  {
   "cell_type": "code",
   "execution_count": 10,
   "metadata": {},
   "outputs": [
    {
     "name": "stdout",
     "output_type": "stream",
     "text": [
      "_________________________________________________________________\n",
      "Layer (type)                 Output Shape              Param #   \n",
      "=================================================================\n",
      "dense_1 (Dense)              (None, 8)                 112       \n",
      "_________________________________________________________________\n",
      "dense_2 (Dense)              (None, 4)                 36        \n",
      "_________________________________________________________________\n",
      "dense_3 (Dense)              (None, 2)                 10        \n",
      "=================================================================\n",
      "Total params: 158\n",
      "Trainable params: 158\n",
      "Non-trainable params: 0\n",
      "_________________________________________________________________\n",
      "None\n"
     ]
    }
   ],
   "source": [
    "#ADAM\n",
    "\n",
    "from keras.models import Sequential\n",
    "from keras.layers import Dense\n",
    "from keras.optimizers import Adam\n",
    "\n",
    "# define a function to build the keras model\n",
    "def create_model():\n",
    "    # create model\n",
    "    model = Sequential()\n",
    "    model.add(Dense(8, input_dim=13, kernel_initializer='normal', activation='relu'))\n",
    "    model.add(Dense(4, kernel_initializer='normal', activation='relu'))\n",
    "    model.add(Dense(2, activation='softmax'))\n",
    "    \n",
    "    # compile model\n",
    "    adam = Adam(lr=0.001)\n",
    "    model.compile(loss='categorical_crossentropy', optimizer=adam, metrics=['accuracy'])\n",
    "    return model\n",
    "\n",
    "model = create_model()\n",
    "\n",
    "print(model.summary())"
   ]
  },
  {
   "cell_type": "code",
   "execution_count": 11,
   "metadata": {},
   "outputs": [
    {
     "name": "stdout",
     "output_type": "stream",
     "text": [
      "Train on 820 samples, validate on 205 samples\n",
      "Epoch 1/300\n",
      "Epoch 2/300\n",
      "Epoch 3/300\n",
      "Epoch 4/300\n",
      "Epoch 5/300\n",
      "Epoch 6/300\n",
      "Epoch 7/300\n",
      "Epoch 8/300\n",
      "Epoch 9/300\n",
      "Epoch 10/300\n",
      "Epoch 11/300\n",
      "Epoch 12/300\n",
      "Epoch 13/300\n",
      "Epoch 14/300\n",
      "Epoch 15/300\n",
      "Epoch 16/300\n",
      "Epoch 17/300\n",
      "Epoch 18/300\n",
      "Epoch 19/300\n",
      "Epoch 20/300\n",
      "Epoch 21/300\n",
      "Epoch 22/300\n",
      "Epoch 23/300\n",
      "Epoch 24/300\n",
      "Epoch 25/300\n",
      "Epoch 26/300\n",
      "Epoch 27/300\n",
      "Epoch 28/300\n",
      "Epoch 29/300\n",
      "Epoch 30/300\n",
      "Epoch 31/300\n",
      "Epoch 32/300\n",
      "Epoch 33/300\n",
      "Epoch 34/300\n",
      "Epoch 35/300\n",
      "Epoch 36/300\n",
      "Epoch 37/300\n",
      "Epoch 38/300\n",
      "Epoch 39/300\n",
      "Epoch 40/300\n",
      "Epoch 41/300\n",
      "Epoch 42/300\n",
      "Epoch 43/300\n",
      "Epoch 44/300\n",
      "Epoch 45/300\n",
      "Epoch 46/300\n",
      "Epoch 47/300\n",
      "Epoch 48/300\n",
      "Epoch 49/300\n",
      "Epoch 50/300\n",
      "Epoch 51/300\n",
      "Epoch 52/300\n",
      "Epoch 53/300\n",
      "Epoch 54/300\n",
      "Epoch 55/300\n",
      "Epoch 56/300\n",
      "Epoch 57/300\n",
      "Epoch 58/300\n",
      "Epoch 59/300\n",
      "Epoch 60/300\n",
      "Epoch 61/300\n",
      "Epoch 62/300\n",
      "Epoch 63/300\n",
      "Epoch 64/300\n",
      "Epoch 65/300\n",
      "Epoch 66/300\n",
      "Epoch 67/300\n",
      "Epoch 68/300\n",
      "Epoch 69/300\n",
      "Epoch 70/300\n",
      "Epoch 71/300\n",
      "Epoch 72/300\n",
      "Epoch 73/300\n",
      "Epoch 74/300\n",
      "Epoch 75/300\n",
      "Epoch 76/300\n",
      "Epoch 77/300\n",
      "Epoch 78/300\n",
      "Epoch 79/300\n",
      "Epoch 80/300\n",
      "Epoch 81/300\n",
      "Epoch 82/300\n",
      "Epoch 83/300\n",
      "Epoch 84/300\n",
      "Epoch 85/300\n",
      "Epoch 86/300\n",
      "Epoch 87/300\n",
      "Epoch 88/300\n",
      "Epoch 89/300\n",
      "Epoch 90/300\n",
      "Epoch 91/300\n",
      "Epoch 92/300\n",
      "Epoch 93/300\n",
      "Epoch 94/300\n",
      "Epoch 95/300\n",
      "Epoch 96/300\n",
      "Epoch 97/300\n",
      "Epoch 98/300\n",
      "Epoch 99/300\n",
      "Epoch 100/300\n",
      "Epoch 101/300\n",
      "Epoch 102/300\n",
      "Epoch 103/300\n",
      "Epoch 104/300\n",
      "Epoch 105/300\n",
      "Epoch 106/300\n",
      "Epoch 107/300\n",
      "Epoch 108/300\n",
      "Epoch 109/300\n",
      "Epoch 110/300\n",
      "Epoch 111/300\n",
      "Epoch 112/300\n",
      "Epoch 113/300\n",
      "Epoch 114/300\n",
      "Epoch 115/300\n",
      "Epoch 116/300\n",
      "Epoch 117/300\n",
      "Epoch 118/300\n",
      "Epoch 119/300\n",
      "Epoch 120/300\n",
      "Epoch 121/300\n",
      "Epoch 122/300\n",
      "Epoch 123/300\n",
      "Epoch 124/300\n",
      "Epoch 125/300\n",
      "Epoch 126/300\n",
      "Epoch 127/300\n",
      "Epoch 128/300\n",
      "Epoch 129/300\n",
      "Epoch 130/300\n",
      "Epoch 131/300\n",
      "Epoch 132/300\n",
      "Epoch 133/300\n",
      "Epoch 134/300\n",
      "Epoch 135/300\n",
      "Epoch 136/300\n",
      "Epoch 137/300\n",
      "Epoch 138/300\n",
      "Epoch 139/300\n",
      "Epoch 140/300\n",
      "Epoch 141/300\n",
      "Epoch 142/300\n",
      "Epoch 143/300\n",
      "Epoch 144/300\n",
      "Epoch 145/300\n",
      "Epoch 146/300\n",
      "Epoch 147/300\n",
      "Epoch 148/300\n",
      "Epoch 149/300\n",
      "Epoch 150/300\n",
      "Epoch 151/300\n",
      "Epoch 152/300\n",
      "Epoch 153/300\n",
      "Epoch 154/300\n",
      "Epoch 155/300\n",
      "Epoch 156/300\n",
      "Epoch 157/300\n",
      "Epoch 158/300\n",
      "Epoch 159/300\n",
      "Epoch 160/300\n",
      "Epoch 161/300\n",
      "Epoch 162/300\n",
      "Epoch 163/300\n",
      "Epoch 164/300\n",
      "Epoch 165/300\n",
      "Epoch 166/300\n",
      "Epoch 167/300\n",
      "Epoch 168/300\n",
      "Epoch 169/300\n",
      "Epoch 170/300\n",
      "Epoch 171/300\n",
      "Epoch 172/300\n",
      "Epoch 173/300\n",
      "Epoch 174/300\n",
      "Epoch 175/300\n",
      "Epoch 176/300\n",
      "Epoch 177/300\n",
      "Epoch 178/300\n",
      "Epoch 179/300\n",
      "Epoch 180/300\n",
      "Epoch 181/300\n",
      "Epoch 182/300\n",
      "Epoch 183/300\n",
      "Epoch 184/300\n",
      "Epoch 185/300\n",
      "Epoch 186/300\n",
      "Epoch 187/300\n",
      "Epoch 188/300\n",
      "Epoch 189/300\n",
      "Epoch 190/300\n",
      "Epoch 191/300\n",
      "Epoch 192/300\n",
      "Epoch 193/300\n",
      "Epoch 194/300\n",
      "Epoch 195/300\n",
      "Epoch 196/300\n",
      "Epoch 197/300\n",
      "Epoch 198/300\n",
      "Epoch 199/300\n",
      "Epoch 200/300\n",
      "Epoch 201/300\n",
      "Epoch 202/300\n",
      "Epoch 203/300\n",
      "Epoch 204/300\n",
      "Epoch 205/300\n",
      "Epoch 206/300\n",
      "Epoch 207/300\n",
      "Epoch 208/300\n",
      "Epoch 209/300\n",
      "Epoch 210/300\n",
      "Epoch 211/300\n",
      "Epoch 212/300\n",
      "Epoch 213/300\n",
      "Epoch 214/300\n",
      "Epoch 215/300\n",
      "Epoch 216/300\n",
      "Epoch 217/300\n",
      "Epoch 218/300\n",
      "Epoch 219/300\n",
      "Epoch 220/300\n",
      "Epoch 221/300\n",
      "Epoch 222/300\n",
      "Epoch 223/300\n",
      "Epoch 224/300\n",
      "Epoch 225/300\n",
      "Epoch 226/300\n",
      "Epoch 227/300\n",
      "Epoch 228/300\n",
      "Epoch 229/300\n",
      "Epoch 230/300\n",
      "Epoch 231/300\n",
      "Epoch 232/300\n",
      "Epoch 233/300\n",
      "Epoch 234/300\n",
      "Epoch 235/300\n",
      "Epoch 236/300\n",
      "Epoch 237/300\n",
      "Epoch 238/300\n",
      "Epoch 239/300\n",
      "Epoch 240/300\n",
      "Epoch 241/300\n",
      "Epoch 242/300\n",
      "Epoch 243/300\n",
      "Epoch 244/300\n",
      "Epoch 245/300\n",
      "Epoch 246/300\n",
      "Epoch 247/300\n",
      "Epoch 248/300\n",
      "Epoch 249/300\n",
      "Epoch 250/300\n",
      "Epoch 251/300\n",
      "Epoch 252/300\n",
      "Epoch 253/300\n",
      "Epoch 254/300\n",
      "Epoch 255/300\n",
      "Epoch 256/300\n",
      "Epoch 257/300\n",
      "Epoch 258/300\n",
      "Epoch 259/300\n",
      "Epoch 260/300\n",
      "Epoch 261/300\n",
      "Epoch 262/300\n",
      "Epoch 263/300\n",
      "Epoch 264/300\n",
      "Epoch 265/300\n",
      "Epoch 266/300\n",
      "Epoch 267/300\n",
      "Epoch 268/300\n",
      "Epoch 269/300\n",
      "Epoch 270/300\n",
      "Epoch 271/300\n",
      "Epoch 272/300\n",
      "Epoch 273/300\n",
      "Epoch 274/300\n",
      "Epoch 275/300\n",
      "Epoch 276/300\n",
      "Epoch 277/300\n",
      "Epoch 278/300\n",
      "Epoch 279/300\n",
      "Epoch 280/300\n",
      "Epoch 281/300\n",
      "Epoch 282/300\n",
      "Epoch 283/300\n",
      "Epoch 284/300\n",
      "Epoch 285/300\n",
      "Epoch 286/300\n",
      "Epoch 287/300\n",
      "Epoch 288/300\n",
      "Epoch 289/300\n",
      "Epoch 290/300\n",
      "Epoch 291/300\n",
      "Epoch 292/300\n",
      "Epoch 293/300\n",
      "Epoch 294/300\n",
      "Epoch 295/300\n",
      "Epoch 296/300\n",
      "Epoch 297/300\n",
      "Epoch 298/300\n",
      "Epoch 299/300\n",
      "Epoch 300/300\n"
     ]
    }
   ],
   "source": [
    "# fit the model to the training data\n",
    "history=model.fit(X_train, Y_train, validation_data=(X_test, Y_test),epochs=300, batch_size=10, verbose = 10)"
   ]
  },
  {
   "cell_type": "code",
   "execution_count": 12,
   "metadata": {},
   "outputs": [
    {
     "data": {
      "image/png": "[encoded data removed]",
      "text/plain": [
       "<Figure size 432x288 with 1 Axes>"
      ]
     },
     "metadata": {
      "needs_background": "light"
     },
     "output_type": "display_data"
    }
   ],
   "source": [
    "import matplotlib.pyplot as plt\n",
    "%matplotlib inline\n",
    "# Model accuracy\n",
    "plt.plot(history.history['acc'])\n",
    "plt.plot(history.history['val_acc'])\n",
    "plt.title('Model Accuracy')\n",
    "plt.ylabel('accuracy')\n",
    "plt.xlabel('epoch')\n",
    "plt.legend(['train', 'test'])\n",
    "plt.show()"
   ]
  },
  {
   "cell_type": "code",
   "execution_count": 13,
   "metadata": {},
   "outputs": [
    {
     "name": "stdout",
     "output_type": "stream",
     "text": [
      "Results for Neural Network Model\n",
      "0.8195121951219512\n",
      "              precision    recall  f1-score   support\n",
      "\n",
      "           0       0.93      0.69      0.79       102\n",
      "           1       0.75      0.95      0.84       103\n",
      "\n",
      "    accuracy                           0.82       205\n",
      "   macro avg       0.84      0.82      0.82       205\n",
      "weighted avg       0.84      0.82      0.82       205\n",
      "\n"
     ]
    }
   ],
   "source": [
    "# generate classification report using predictions for categorical model\n",
    "from sklearn.metrics import classification_report, accuracy_score\n",
    "\n",
    "categorical_pred = np.argmax(model.predict(X_test), axis=1)\n",
    "print('Results for Neural Network Model')\n",
    "print(accuracy_score(y_test, categorical_pred))\n",
    "print(classification_report(y_test, categorical_pred))"
   ]
  },
  {
   "cell_type": "code",
   "execution_count": null,
   "metadata": {},
   "outputs": [],
   "source": []
  },
  {
   "cell_type": "code",
   "execution_count": 14,
   "metadata": {},
   "outputs": [
    {
     "data": {
      "text/plain": [
       "'C:\\\\Users\\\\Nimesh'"
      ]
     },
     "execution_count": 14,
     "metadata": {},
     "output_type": "execute_result"
    }
   ],
   "source": [
    "pwd"
   ]
  },
  {
   "cell_type": "code",
   "execution_count": null,
   "metadata": {},
   "outputs": [],
   "source": []
  }
 ],
 "metadata": {
  "kernelspec": {
   "display_name": "Python 3",
   "language": "python",
   "name": "python3"
  },
  "language_info": {
   "codemirror_mode": {
    "name": "ipython",
    "version": 3
   },
   "file_extension": ".py",
   "mimetype": "text/x-python",
   "name": "python",
   "nbconvert_exporter": "python",
   "pygments_lexer": "ipython3",
   "version": "3.6.7"
  }
 },
 "nbformat": 4,
 "nbformat_minor": 2
}
